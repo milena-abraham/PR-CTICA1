{
  "nbformat": 4,
  "nbformat_minor": 0,
  "metadata": {
    "colab": {
      "provenance": [],
      "authorship_tag": "ABX9TyNYXh6VXTyoGjZ0qncI7LwR",
      "include_colab_link": true
    },
    "kernelspec": {
      "name": "python3",
      "display_name": "Python 3"
    },
    "language_info": {
      "name": "python"
    }
  },
  "cells": [
    {
      "cell_type": "markdown",
      "metadata": {
        "id": "view-in-github",
        "colab_type": "text"
      },
      "source": [
        "<a href=\"https://colab.research.google.com/github/milena-abraham/PR-CTICA1/blob/BRANCH-1/Untitled3.ipynb\" target=\"_parent\"><img src=\"https://colab.research.google.com/assets/colab-badge.svg\" alt=\"Open In Colab\"/></a>"
      ]
    },
    {
      "cell_type": "markdown",
      "source": [
        "Ejemplo de Machine Learning en Colab con un Dataset de Kaggle\n",
        "Introducción:\n",
        "Este ejemplo tiene como objetivo introducirte en el mundo del Machine Learning utilizando Python y Colab. A través de un dataset sencillo de Kaggle, exploraremos los pasos básicos para entrenar y evaluar un modelo de clasificación.\n",
        "Ejercicio:\n",
        "Toma según corresponda los textos descriptivos y el código Pyton en el orden establecido en el texto, pásalos a un Notebook en Colab respetando las cédas de Texto y código según corresponda y preserva los cambios en Github. Adicionalmente verifica o visualiza el contenido del archivo Iris-Data. Comparte el link de tu trabajo en Github con el profesor vía mail (caludiopavon@uca.edu.ar)\n",
        "Pasos:\n",
        "1.\tImportación de librerías y carga del dataset:\n",
        "Comenzaremos importando las librerías necesarias y cargando el dataset de Kaggle. En este caso, utilizaremos el conjunto de datos \"Iris\" que contiene información sobre las características de flores de diferentes especies\n"
      ],
      "metadata": {
        "id": "9tpsljTe6rQi"
      }
    },
    {
      "cell_type": "code",
      "source": [
        "import pandas as pd\n",
        "from sklearn.model_selection import train_test_split\n",
        "from sklearn.neighbors import KNeighborsClassifier\n",
        "from sklearn.metrics import accuracy_score\n",
        "import pickle\n",
        "import matplotlib.pyplot as plt\n",
        "import seaborn as sns"
      ],
      "metadata": {
        "id": "lW5HZrb16yqJ"
      },
      "execution_count": null,
      "outputs": []
    },
    {
      "cell_type": "code",
      "source": [
        "# Carga del dataset Iris de UC Irvine Machine Learning Repository\n",
        "url = \"https://archive.ics.uci.edu/ml/machine-learning-databases/iris/iris.data\"\n",
        "df = pd.read_csv(url, names=['sepal_length', 'sepal_width', 'petal_length', 'petal_width', 'species'])\n"
      ],
      "metadata": {
        "id": "CT3YAaKt6-Cx"
      },
      "execution_count": null,
      "outputs": []
    },
    {
      "cell_type": "markdown",
      "source": [
        "Nota: en caso de que no funcione el acceso a la URL, pruebe subiendo este archivo a su dispositivo en su Notebook de Colab."
      ],
      "metadata": {
        "id": "hf9oEcWE7ASJ"
      }
    },
    {
      "cell_type": "code",
      "source": [
        "# Carga del dataset Iris de del Dispositivo Local\n",
        "df = pd.read_csv('/content/sample_data/IrisData.csv', names=['sepal_length', 'sepal_width','petal_length', 'petal_width', 'species'])\n"
      ],
      "metadata": {
        "id": "IdVdo4887Eap"
      },
      "execution_count": null,
      "outputs": []
    }
  ]
}